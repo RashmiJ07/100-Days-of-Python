{
 "cells": [
  {
   "cell_type": "code",
   "execution_count": 250,
   "id": "7a2af557",
   "metadata": {},
   "outputs": [],
   "source": [
    "import requests\n",
    "import datetime as dt\n",
    "from twilio.rest import Client\n",
    "account_sid = 'AC242189f5c43b109876f91fd001fcb011'\n",
    "auth_token = '619348870a2c1f4ce65f5bb1cc2055ce'\n",
    "client = Client(account_sid, auth_token)\n"
   ]
  },
  {
   "cell_type": "markdown",
   "id": "e36e802a",
   "metadata": {},
   "source": [
    "Constants"
   ]
  },
  {
   "cell_type": "code",
   "execution_count": 251,
   "id": "344ec319",
   "metadata": {},
   "outputs": [],
   "source": [
    "STOCK = \"TSLA\"\n",
    "COMPANY_NAME = \"Tesla Inc\"\n",
    "\n",
    "stock_api_key = 'FDRJR4OUIDSXOH5V'\n",
    "stock_api_EndPoint = 'https://www.alphavantage.co/query?'\n",
    "function='TIME_SERIES_DAILY'\n",
    "symbol=STOCK\n",
    "\n",
    "stock_parameters = {\n",
    "    'function':function,\n",
    "    'symbol':symbol,\n",
    "    'apikey':stock_api_key,\n",
    "    'outputsize':'compact'\n",
    "}\n",
    "\n",
    "news_api_key = 'd03bf8377bd647ff930fcfccffe8b10b'\n",
    "news_api_end_point = 'https://newsapi.org/v2/everything?'\n",
    "q = COMPANY_NAME\n",
    "\n",
    "arrow = \"\""
   ]
  },
  {
   "cell_type": "markdown",
   "id": "a64627b6",
   "metadata": {},
   "source": [
    "Calling the api and getting the response"
   ]
  },
  {
   "cell_type": "code",
   "execution_count": 252,
   "id": "6129c16d",
   "metadata": {},
   "outputs": [],
   "source": [
    "response = requests.get(stock_api_EndPoint,params=stock_parameters)\n",
    "response.raise_for_status()"
   ]
  },
  {
   "cell_type": "markdown",
   "id": "6a0e9017",
   "metadata": {},
   "source": [
    "STEP 1: Use https://www.alphavantage.co\n",
    "- When STOCK price increase/decreases by 5% between yesterday and the day before yesterday then print(\"Get News\")."
   ]
  },
  {
   "cell_type": "code",
   "execution_count": 253,
   "id": "d3f57450",
   "metadata": {},
   "outputs": [
    {
     "name": "stdout",
     "output_type": "stream",
     "text": [
      "2025-04-23\n"
     ]
    }
   ],
   "source": [
    "today = dt.date.today()\n",
    "yesterday = str(today - dt.timedelta(days=2))\n",
    "day_before_yesterday = str(today - dt.timedelta(days=3))\n",
    "\n",
    "print(yesterday)"
   ]
  },
  {
   "cell_type": "code",
   "execution_count": 254,
   "id": "285cc364",
   "metadata": {},
   "outputs": [],
   "source": [
    "def percentage_change_in_stock_prices(new,old):\n",
    "    change = ((new-old)/old) *100.0\n",
    "    global arrow\n",
    "\n",
    "    if new > old:\n",
    "         print(f\"Increase of {change:.2f}%\")\n",
    "         arrow = \"🔺\"\n",
    "         return f\"{change:.2f}\"\n",
    "    elif old > new:\n",
    "         print(f\"Decrase of {change:.2f}%\")\n",
    "         arrow = \"🔻\"\n",
    "         return f\"{change:.2f}\"\n",
    "    else:\n",
    "        print(f\"no change\")\n",
    "        return f\"{change:.2f}\""
   ]
  },
  {
   "cell_type": "code",
   "execution_count": 255,
   "id": "25e306ab",
   "metadata": {},
   "outputs": [
    {
     "name": "stdout",
     "output_type": "stream",
     "text": [
      "Increase of 5.37%\n"
     ]
    },
    {
     "data": {
      "text/plain": [
       "'🔺'"
      ]
     },
     "execution_count": 255,
     "metadata": {},
     "output_type": "execute_result"
    }
   ],
   "source": [
    "stock_data = response.json()['Time Series (Daily)']\n",
    "yesterday_stock_price = float(stock_data[yesterday]['4. close'])\n",
    "day_before_yesterday_stock_price = float(stock_data[day_before_yesterday]['4. close'])\n",
    "\n",
    "change = float(percentage_change_in_stock_prices(yesterday_stock_price,day_before_yesterday_stock_price))\n",
    "change\n",
    "arrow"
   ]
  },
  {
   "cell_type": "markdown",
   "id": "4372dcb2",
   "metadata": {},
   "source": [
    "STEP 2: Use https://newsapi.org\n",
    "- Instead of printing (\"Get News\"), actually get the first 3 news pieces for the COMPANY_NAME. "
   ]
  },
  {
   "cell_type": "code",
   "execution_count": 256,
   "id": "6956aac2",
   "metadata": {},
   "outputs": [],
   "source": [
    "news_parameters = {\n",
    "    'q':COMPANY_NAME,\n",
    "    'apiKey':news_api_key,\n",
    "    'from':day_before_yesterday,\n",
    "    'to':today,\n",
    "    'pageSize':3,\n",
    "    'language':'en'\n",
    "}"
   ]
  },
  {
   "cell_type": "code",
   "execution_count": 257,
   "id": "86054fb3",
   "metadata": {},
   "outputs": [
    {
     "data": {
      "text/plain": [
       "[{'source': {'id': None, 'name': 'KTLA Los Angeles'},\n",
       "  'author': 'Will Conybeare',\n",
       "  'title': 'L.A. warehouse said to be owned by Kanye West causing concern for neighbors: ‘We don’t really know what’s going on’',\n",
       "  'description': 'A warehouse in Los Angeles said to be owned by Ye, also known as Kanye West, is drawing ire from nearby residents. Neighbors told KTLA on Wednesday that the ...',\n",
       "  'url': 'https://ktla.com/news/local-news/l-a-warehouse-said-to-be-owned-by-kanye-west-causing-concern-for-neighbors-we-dont-really-know-whats-going-on/',\n",
       "  'urlToImage': 'https://media.zenfs.com/en/ktla_articles_362/cf062aeccbf936589ca5c95ae7025087',\n",
       "  'publishedAt': '2025-04-23T20:20:21Z',\n",
       "  'content': 'A warehouse in Los Angeles said to be owned by Ye, also known as Kanye West, is drawing ire from nearby residents. \\r\\nNeighbors told KTLA on Wednesday that the nondescript white building on the corner… [+2224 chars]'},\n",
       " {'source': {'id': None, 'name': 'Forbes'},\n",
       "  'author': 'Adam Sarhan, Contributor, \\n Adam Sarhan, Contributor\\n https://www.forbes.com/sites/adamsarhan/',\n",
       "  'title': 'Earnings Preview: What To Expect From Tesla',\n",
       "  'description': \"Here's a closer look at Tesla's earnings and what Wall Street Analysts Expect will happen after TSLA reports earnings.\",\n",
       "  'url': 'https://www.forbes.com/sites/adamsarhan/2025/04/22/earnings-preview-what-to-expect-from-tesla/',\n",
       "  'urlToImage': 'https://imageio.forbes.com/specials-images/imageserve/61701df01850b5a6cc550907/0x0.jpg?format=jpg&height=900&width=1600&fit=bounds',\n",
       "  'publishedAt': '2025-04-22T13:04:52Z',\n",
       "  'content': 'Close up of Tesla logo on a charger at a Supercharger rapid battery charging station for the ... More electric vehicle company Tesla Motors, in the Silicon Valley town of Mountain View, California, A… [+5161 chars]'},\n",
       " {'source': {'id': None, 'name': 'Yahoo Entertainment'},\n",
       "  'author': 'Esha Dey',\n",
       "  'title': 'Tesla at Risk of a ‘Throwaway Year’ Without a New Narrative From Earnings',\n",
       "  'description': '(Bloomberg) -- Tesla Inc. investors reeling from one of the stock’s worst-ever quarters are once again looking for Elon Musk to inject excitement back into...',\n",
       "  'url': 'https://finance.yahoo.com/news/tesla-risk-throwaway-without-narrative-110309935.html',\n",
       "  'urlToImage': 'https://media.zenfs.com/en/bloomberg_holding_pen_162/0ddc91e109a11e9f0e332684787d9646',\n",
       "  'publishedAt': '2025-04-22T13:40:14Z',\n",
       "  'content': '(Bloomberg) -- Tesla Inc. investors reeling from one of the stocks worst-ever quarters are once again looking for Elon Musk to inject excitement back into the company when it reports results Tuesday,… [+6165 chars]'}]"
      ]
     },
     "execution_count": 257,
     "metadata": {},
     "output_type": "execute_result"
    }
   ],
   "source": [
    "response = requests.get(news_api_end_point,params=news_parameters)\n",
    "response.raise_for_status()\n",
    "news_data = response.json()['articles']\n",
    "\n",
    "news_data"
   ]
  },
  {
   "cell_type": "code",
   "execution_count": 258,
   "id": "94345152",
   "metadata": {},
   "outputs": [
    {
     "data": {
      "text/plain": [
       "{0: {'headline': 'L.A. warehouse said to be owned by Kanye West causing concern for neighbors: ‘We don’t really know what’s going on’',\n",
       "  'brief': 'A warehouse in Los Angeles said to be owned by Ye, also known as Kanye West, is drawing ire from nearby residents. Neighbors told KTLA on Wednesday that the ...'},\n",
       " 1: {'headline': 'Earnings Preview: What To Expect From Tesla',\n",
       "  'brief': \"Here's a closer look at Tesla's earnings and what Wall Street Analysts Expect will happen after TSLA reports earnings.\"},\n",
       " 2: {'headline': 'Tesla at Risk of a ‘Throwaway Year’ Without a New Narrative From Earnings',\n",
       "  'brief': '(Bloomberg) -- Tesla Inc. investors reeling from one of the stock’s worst-ever quarters are once again looking for Elon Musk to inject excitement back into...'}}"
      ]
     },
     "execution_count": 258,
     "metadata": {},
     "output_type": "execute_result"
    }
   ],
   "source": [
    "news_data = {\n",
    "    i:{\n",
    "        'headline':news_data[i]['title'],\n",
    "        'brief':news_data[i]['description']\n",
    "       } \n",
    "             for i in range(len(news_data))\n",
    "             }\n",
    "news_data"
   ]
  },
  {
   "cell_type": "markdown",
   "id": "0746b504",
   "metadata": {},
   "source": [
    "STEP 3: Use https://www.twilio.com\n",
    "- Send a seperate message with the percentage change and each article's title and description to your phone number. "
   ]
  },
  {
   "cell_type": "code",
   "execution_count": 259,
   "id": "b91dd3db",
   "metadata": {},
   "outputs": [
    {
     "name": "stdout",
     "output_type": "stream",
     "text": [
      "A warehouse in Los Angeles said to be owned by Ye, also known as Kanye West, is drawing ire from nearby residents. Neighbors told KTLA on Wednesday that the ...\n",
      "Here's a closer look at Tesla's earnings and what Wall Street Analysts Expect will happen after TSLA reports earnings.\n",
      "(Bloomberg) -- Tesla Inc. investors reeling from one of the stock’s worst-ever quarters are once again looking for Elon Musk to inject excitement back into...\n"
     ]
    }
   ],
   "source": [
    "for article in news_data:\n",
    "    post = news_data[article]\n",
    "    print(post['brief'])"
   ]
  },
  {
   "cell_type": "code",
   "execution_count": 260,
   "id": "8f5c1911",
   "metadata": {},
   "outputs": [
    {
     "name": "stdout",
     "output_type": "stream",
     "text": [
      "0\n",
      "Sent: queued\n",
      "1\n"
     ]
    },
    {
     "ename": "TwilioRestException",
     "evalue": "HTTP 429 error: Unable to create record: Account AC242189f5c43b109876f91fd001fcb011 exceeded the 9 daily messages limit",
     "output_type": "error",
     "traceback": [
      "\u001b[31m---------------------------------------------------------------------------\u001b[39m",
      "\u001b[31mTwilioRestException\u001b[39m                       Traceback (most recent call last)",
      "\u001b[36mCell\u001b[39m\u001b[36m \u001b[39m\u001b[32mIn[260]\u001b[39m\u001b[32m, line 5\u001b[39m\n\u001b[32m      3\u001b[39m \u001b[38;5;28mprint\u001b[39m(i)\n\u001b[32m      4\u001b[39m article = news_data[i]\n\u001b[32m----> \u001b[39m\u001b[32m5\u001b[39m message = \u001b[43mclient\u001b[49m\u001b[43m.\u001b[49m\u001b[43mmessages\u001b[49m\u001b[43m.\u001b[49m\u001b[43mcreate\u001b[49m\u001b[43m(\u001b[49m\n\u001b[32m      6\u001b[39m \u001b[43m    \u001b[49m\u001b[43mbody\u001b[49m\u001b[43m=\u001b[49m\u001b[33;43mf\u001b[39;49m\u001b[33;43m\"\u001b[39;49m\u001b[38;5;132;43;01m{\u001b[39;49;00m\u001b[43mSTOCK\u001b[49m\u001b[38;5;132;43;01m}\u001b[39;49;00m\u001b[33;43m: \u001b[39;49m\u001b[38;5;132;43;01m{\u001b[39;49;00m\u001b[43marrow\u001b[49m\u001b[38;5;132;43;01m}\u001b[39;49;00m\u001b[38;5;132;43;01m{\u001b[39;49;00m\u001b[43mchange\u001b[49m\u001b[38;5;132;43;01m:\u001b[39;49;00m\u001b[33;43m.2f\u001b[39;49m\u001b[38;5;132;43;01m}\u001b[39;49;00m\u001b[33;43m%\u001b[39;49m\u001b[38;5;130;43;01m\\n\u001b[39;49;00m\u001b[33;43m\"\u001b[39;49m\n\u001b[32m      7\u001b[39m \u001b[43m        \u001b[49m\u001b[33;43mf\u001b[39;49m\u001b[33;43m\"\u001b[39;49m\u001b[33;43mHeadline: \u001b[39;49m\u001b[38;5;132;43;01m{\u001b[39;49;00m\u001b[43marticle\u001b[49m\u001b[43m[\u001b[49m\u001b[33;43m'\u001b[39;49m\u001b[33;43mheadline\u001b[39;49m\u001b[33;43m'\u001b[39;49m\u001b[43m]\u001b[49m\u001b[38;5;132;43;01m}\u001b[39;49;00m\u001b[38;5;130;43;01m\\n\u001b[39;49;00m\u001b[33;43m\"\u001b[39;49m\n\u001b[32m      8\u001b[39m \u001b[43m        \u001b[49m\u001b[33;43mf\u001b[39;49m\u001b[33;43m\"\u001b[39;49m\u001b[33;43mBrief: \u001b[39;49m\u001b[38;5;132;43;01m{\u001b[39;49;00m\u001b[43marticle\u001b[49m\u001b[43m[\u001b[49m\u001b[33;43m'\u001b[39;49m\u001b[33;43mbrief\u001b[39;49m\u001b[33;43m'\u001b[39;49m\u001b[43m]\u001b[49m\u001b[38;5;132;43;01m}\u001b[39;49;00m\u001b[33;43m\"\u001b[39;49m\u001b[43m,\u001b[49m\n\u001b[32m      9\u001b[39m \u001b[43m    \u001b[49m\u001b[43mfrom_\u001b[49m\u001b[43m=\u001b[49m\u001b[33;43m'\u001b[39;49m\u001b[33;43m+16693057033\u001b[39;49m\u001b[33;43m'\u001b[39;49m\u001b[43m,\u001b[49m\n\u001b[32m     10\u001b[39m \u001b[43m    \u001b[49m\u001b[43mto\u001b[49m\u001b[43m=\u001b[49m\u001b[33;43m'\u001b[39;49m\u001b[33;43m+918879598537\u001b[39;49m\u001b[33;43m'\u001b[39;49m\n\u001b[32m     11\u001b[39m \u001b[43m\u001b[49m\u001b[43m)\u001b[49m\n\u001b[32m     12\u001b[39m \u001b[38;5;28mprint\u001b[39m(\u001b[33mf\u001b[39m\u001b[33m\"\u001b[39m\u001b[33mSent: \u001b[39m\u001b[38;5;132;01m{\u001b[39;00mmessage.status\u001b[38;5;132;01m}\u001b[39;00m\u001b[33m\"\u001b[39m)\n",
      "\u001b[36mFile \u001b[39m\u001b[32mc:\\Users\\Admin\\AppData\\Local\\Programs\\Python\\Python312\\Lib\\site-packages\\twilio\\rest\\api\\v2010\\account\\message\\__init__.py:589\u001b[39m, in \u001b[36mMessageList.create\u001b[39m\u001b[34m(self, to, status_callback, application_sid, max_price, provide_feedback, attempt, validity_period, force_delivery, content_retention, address_retention, smart_encoded, persistent_action, traffic_type, shorten_urls, schedule_type, send_at, send_as_mms, content_variables, risk_check, from_, messaging_service_sid, body, media_url, content_sid)\u001b[39m\n\u001b[32m    585\u001b[39m headers[\u001b[33m\"\u001b[39m\u001b[33mContent-Type\u001b[39m\u001b[33m\"\u001b[39m] = \u001b[33m\"\u001b[39m\u001b[33mapplication/x-www-form-urlencoded\u001b[39m\u001b[33m\"\u001b[39m\n\u001b[32m    587\u001b[39m headers[\u001b[33m\"\u001b[39m\u001b[33mAccept\u001b[39m\u001b[33m\"\u001b[39m] = \u001b[33m\"\u001b[39m\u001b[33mapplication/json\u001b[39m\u001b[33m\"\u001b[39m\n\u001b[32m--> \u001b[39m\u001b[32m589\u001b[39m payload = \u001b[38;5;28;43mself\u001b[39;49m\u001b[43m.\u001b[49m\u001b[43m_version\u001b[49m\u001b[43m.\u001b[49m\u001b[43mcreate\u001b[49m\u001b[43m(\u001b[49m\n\u001b[32m    590\u001b[39m \u001b[43m    \u001b[49m\u001b[43mmethod\u001b[49m\u001b[43m=\u001b[49m\u001b[33;43m\"\u001b[39;49m\u001b[33;43mPOST\u001b[39;49m\u001b[33;43m\"\u001b[39;49m\u001b[43m,\u001b[49m\u001b[43m \u001b[49m\u001b[43muri\u001b[49m\u001b[43m=\u001b[49m\u001b[38;5;28;43mself\u001b[39;49m\u001b[43m.\u001b[49m\u001b[43m_uri\u001b[49m\u001b[43m,\u001b[49m\u001b[43m \u001b[49m\u001b[43mdata\u001b[49m\u001b[43m=\u001b[49m\u001b[43mdata\u001b[49m\u001b[43m,\u001b[49m\u001b[43m \u001b[49m\u001b[43mheaders\u001b[49m\u001b[43m=\u001b[49m\u001b[43mheaders\u001b[49m\n\u001b[32m    591\u001b[39m \u001b[43m\u001b[49m\u001b[43m)\u001b[49m\n\u001b[32m    593\u001b[39m \u001b[38;5;28;01mreturn\u001b[39;00m MessageInstance(\n\u001b[32m    594\u001b[39m     \u001b[38;5;28mself\u001b[39m._version, payload, account_sid=\u001b[38;5;28mself\u001b[39m._solution[\u001b[33m\"\u001b[39m\u001b[33maccount_sid\u001b[39m\u001b[33m\"\u001b[39m]\n\u001b[32m    595\u001b[39m )\n",
      "\u001b[36mFile \u001b[39m\u001b[32mc:\\Users\\Admin\\AppData\\Local\\Programs\\Python\\Python312\\Lib\\site-packages\\twilio\\base\\version.py:463\u001b[39m, in \u001b[36mVersion.create\u001b[39m\u001b[34m(self, method, uri, params, data, headers, auth, timeout, allow_redirects)\u001b[39m\n\u001b[32m    450\u001b[39m \u001b[38;5;250m\u001b[39m\u001b[33;03m\"\"\"\u001b[39;00m\n\u001b[32m    451\u001b[39m \u001b[33;03mCreate a resource instance.\u001b[39;00m\n\u001b[32m    452\u001b[39m \u001b[33;03m\"\"\"\u001b[39;00m\n\u001b[32m    453\u001b[39m response = \u001b[38;5;28mself\u001b[39m.request(\n\u001b[32m    454\u001b[39m     method,\n\u001b[32m    455\u001b[39m     uri,\n\u001b[32m   (...)\u001b[39m\u001b[32m    461\u001b[39m     allow_redirects=allow_redirects,\n\u001b[32m    462\u001b[39m )\n\u001b[32m--> \u001b[39m\u001b[32m463\u001b[39m \u001b[38;5;28;01mreturn\u001b[39;00m \u001b[38;5;28;43mself\u001b[39;49m\u001b[43m.\u001b[49m\u001b[43m_parse_create\u001b[49m\u001b[43m(\u001b[49m\u001b[43mmethod\u001b[49m\u001b[43m,\u001b[49m\u001b[43m \u001b[49m\u001b[43muri\u001b[49m\u001b[43m,\u001b[49m\u001b[43m \u001b[49m\u001b[43mresponse\u001b[49m\u001b[43m)\u001b[49m\n",
      "\u001b[36mFile \u001b[39m\u001b[32mc:\\Users\\Admin\\AppData\\Local\\Programs\\Python\\Python312\\Lib\\site-packages\\twilio\\base\\version.py:435\u001b[39m, in \u001b[36mVersion._parse_create\u001b[39m\u001b[34m(self, method, uri, response)\u001b[39m\n\u001b[32m    431\u001b[39m \u001b[38;5;250m\u001b[39m\u001b[33;03m\"\"\"\u001b[39;00m\n\u001b[32m    432\u001b[39m \u001b[33;03mParse create response JSON\u001b[39;00m\n\u001b[32m    433\u001b[39m \u001b[33;03m\"\"\"\u001b[39;00m\n\u001b[32m    434\u001b[39m \u001b[38;5;28;01mif\u001b[39;00m response.status_code < \u001b[32m200\u001b[39m \u001b[38;5;129;01mor\u001b[39;00m response.status_code >= \u001b[32m300\u001b[39m:\n\u001b[32m--> \u001b[39m\u001b[32m435\u001b[39m     \u001b[38;5;28;01mraise\u001b[39;00m \u001b[38;5;28mself\u001b[39m.exception(method, uri, response, \u001b[33m\"\u001b[39m\u001b[33mUnable to create record\u001b[39m\u001b[33m\"\u001b[39m)\n\u001b[32m    437\u001b[39m \u001b[38;5;28;01mreturn\u001b[39;00m json.loads(response.text)\n",
      "\u001b[31mTwilioRestException\u001b[39m: HTTP 429 error: Unable to create record: Account AC242189f5c43b109876f91fd001fcb011 exceeded the 9 daily messages limit"
     ]
    }
   ],
   "source": [
    "if change >=5 or change <= -5:\n",
    "    for i in news_data:\n",
    "        print(i)\n",
    "        article = news_data[i]\n",
    "        message = client.messages.create(\n",
    "            body=f\"{STOCK}: {arrow}{change:.2f}%\\n\"\n",
    "                f\"Headline: {article['headline']}\\n\"\n",
    "                f\"Brief: {article['brief']}\",\n",
    "            from_='+16693057033',\n",
    "            to='+918879598537'\n",
    "        )\n",
    "        print(f\"Sent: {message.status}\")"
   ]
  },
  {
   "cell_type": "markdown",
   "id": "f677f6a4",
   "metadata": {},
   "source": [
    "#Optional: Format the SMS message like this: \n",
    "\"\"\"\n",
    "TSLA: 🔺2%\n",
    "Headline: Were Hedge Funds Right About Piling Into Tesla Inc. (TSLA)?. \n",
    "Brief: We at Insider Monkey have gone over 821 13F filings that hedge funds and prominent investors are required to file by the SEC The 13F filings show the funds' and investors' portfolio positions as of March 31st, near the height of the coronavirus market crash.\n",
    "or\n",
    "\"TSLA: 🔻5%\n",
    "Headline: Were Hedge Funds Right About Piling Into Tesla Inc. (TSLA)?. \n",
    "Brief: We at Insider Monkey have gone over 821 13F filings that hedge funds and prominent investors are required to file by the SEC The 13F filings show the funds' and investors' portfolio positions as of March 31st, near the height of the coronavirus market crash.\n",
    "\"\"\""
   ]
  }
 ],
 "metadata": {
  "kernelspec": {
   "display_name": "Python 3",
   "language": "python",
   "name": "python3"
  },
  "language_info": {
   "codemirror_mode": {
    "name": "ipython",
    "version": 3
   },
   "file_extension": ".py",
   "mimetype": "text/x-python",
   "name": "python",
   "nbconvert_exporter": "python",
   "pygments_lexer": "ipython3",
   "version": "3.12.3"
  }
 },
 "nbformat": 4,
 "nbformat_minor": 5
}
